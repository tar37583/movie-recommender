{
 "cells": [
  {
   "cell_type": "markdown",
   "metadata": {},
   "source": [
    "#  Scrape the IMDB information about movies with movie ID released from year 1991-2022 (sorted according to number of votes)"
   ]
  },
  {
   "cell_type": "code",
   "execution_count": null,
   "metadata": {},
   "outputs": [],
   "source": []
  },
  {
   "cell_type": "code",
   "execution_count": null,
   "metadata": {},
   "outputs": [],
   "source": [
    "from bs4 import BeautifulSoup as soup\n",
    "import requests\n",
    "import numpy as np\n",
    "import pandas as pd\n",
    "from decouple import config\n",
    "import csv\n",
    "from tqdm import tqdm"
   ]
  },
  {
   "cell_type": "code",
   "execution_count": 2,
   "metadata": {},
   "outputs": [],
   "source": [
    "def get_imdb_id(movie_id):\n",
    "    response=requests.get(\n",
    "        'https://api.themoviedb.org/3/movie/{}/external_ids?api_key={}'.format(movie_id,config('API_KEY')))\n",
    "    return response.json()['imdb_id']\n",
    "\n",
    "def get_movie_id(title,year):\n",
    "    response=requests.get(\n",
    "        'https://api.themoviedb.org/3/search/movie?api_key={}&language=en-US&year={}&query={}'\n",
    "        .format(config('API_KEY'),year,title))\n",
    "    try:\n",
    "        result=response.json()['results']\n",
    "        if result==[]:\n",
    "            return np.nan,np.nan\n",
    "        else:                    \n",
    "            tmdb_id=result[0]['id']\n",
    "            imdb_id=get_imdb_id(tmdb_id)\n",
    "    except:\n",
    "        return np.nan,np.nan\n",
    "    \n",
    "    return str(tmdb_id),str(imdb_id)"
   ]
  },
  {
   "cell_type": "code",
   "execution_count": 3,
   "metadata": {},
   "outputs": [],
   "source": [
    "def get_cast(movieCast):\n",
    "    all_cast=[]\n",
    "    all_directors=[]\n",
    "    all_stars=[]\n",
    "    try:\n",
    "        casts=movieCast.text.replace(\"\\n\",\"\").split('|')\n",
    "        casts = [x.strip() for x in casts]\n",
    "        # directors\n",
    "        directors=\"\".join(map(str,casts[0]))\n",
    "        first_ele=directors.partition(\":\")\n",
    "        if(first_ele[0]==\"Stars\"):\n",
    "            direct=np.nan\n",
    "        else:\n",
    "            direct=first_ele[2]\n",
    "        all_directors.append(direct)\n",
    "        # stars\n",
    "        star_cast=\"\".join(map(str,casts))\n",
    "        dirs = str(star_cast).partition(\":\")\n",
    "        if(dirs[0]!=\"Stars\"):\n",
    "            stars=str(dirs[2]).partition(\":\")[2]\n",
    "        else: stars=dirs[2]\n",
    "        all_stars.append(stars)\n",
    "        \n",
    "        all_cast.append(all_directors)\n",
    "        all_cast.append(all_stars)\n",
    "    except:\n",
    "        casts = movieCast.text.replace(\"\\n\",\"\").strip()\n",
    "    return all_directors,all_stars"
   ]
  },
  {
   "cell_type": "code",
   "execution_count": 1,
   "metadata": {},
   "outputs": [],
   "source": [
    "def get_movies_details(year,pn):\n",
    "    response=requests.get(\n",
    "        \"https://www.imdb.com/search/title/?title_type=feature&year={}&sort=num_votes,desc&start={}\".format(year,pn))\n",
    "    page=soup(response.content)\n",
    "    movies_info=[]\n",
    "\n",
    "    for movieFrame in page.find_all('div',attrs={\"class\":\"lister-item mode-advanced\"}):\n",
    "        movies=[]\n",
    "        directors=[]\n",
    "        stars=[]\n",
    "\n",
    "        movie_name=movieFrame.find(\"h3\",class_=\"lister-item-header\").find(\"a\")\n",
    "        imdb_rating=movieFrame.find('div',attrs={\"class\":\"inline-block ratings-imdb-rating\"})\n",
    "        desc=movieFrame.find_all(\"p\", class_=\"text-muted\")[-1]\n",
    "        \n",
    "        movieCast=movieFrame.find(\"p\",class_=\"\")\n",
    "        genre=movieFrame.find(\"span\",class_=\"genre\")\n",
    "\n",
    "        if movie_name is not None:\n",
    "            tmdb_id,imdb_id=get_movie_id(movie_name.text.lstrip(),year)\n",
    "            if tmdb_id is np.nan and imdb_id is np.nan:\n",
    "                movies.append(np.nan)\n",
    "                movies.append(np.nan)\n",
    "            else:                    \n",
    "                movies.append(\"\".join(map(str,tmdb_id)))\n",
    "                movies.append(\"\".join(map(str,imdb_id)))\n",
    "            movies.append(year)\n",
    "            movies.append(movie_name.text.lstrip())\n",
    "        else:\n",
    "            movies.append(np.nan)  \n",
    "            continue      \n",
    "\n",
    "        if imdb_rating is not None:\n",
    "            movies.append(imdb_rating.text.strip())\n",
    "        else:\n",
    "            movies.append(np.nan)\n",
    "        if desc is not None:\n",
    "            movies.append(desc.text.strip())\n",
    "        else:\n",
    "            movies.append(np.nan)\n",
    "        \n",
    "        if movieCast is not None:\n",
    "            directors,stars=get_cast(movieCast)\n",
    "            movies.append(\"\".join(map(str,directors)))\n",
    "            movies.append(\"\".join(map(str,stars)))\n",
    "        else: movies.append(np.nan)\n",
    "        if genre is not None:\n",
    "            movies.append(genre.text.strip())\n",
    "        else:\n",
    "            movies.append(np.nan)\n",
    "        movies_info.append(movies)\n",
    "    return movies_info\n"
   ]
  },
  {
   "cell_type": "code",
   "execution_count": 5,
   "metadata": {},
   "outputs": [],
   "source": [
    "filename=\"scrapped_movies.csv\"\n",
    "with open(filename, \"w\") as filehandle:\n",
    "    writer = csv.writer(filehandle, delimiter=',', lineterminator='\\n')\n",
    "    cols=['tmdb_id','imdb_id','year','name','rating','description','directors','cast','genres']\n",
    "    writer.writerow(cols)"
   ]
  },
  {
   "cell_type": "code",
   "execution_count": 6,
   "metadata": {},
   "outputs": [],
   "source": [
    "flatten=lambda l:[item for sublist in l for item in sublist]"
   ]
  },
  {
   "cell_type": "code",
   "execution_count": 7,
   "metadata": {},
   "outputs": [
    {
     "name": "stderr",
     "output_type": "stream",
     "text": [
      "100%|██████████| 6/6 [10:28<00:00, 104.79s/it]\n",
      "100%|██████████| 6/6 [09:09<00:00, 91.63s/it]/it]\n",
      "100%|██████████| 6/6 [09:49<00:00, 98.32s/it]/it]\n",
      "100%|██████████| 6/6 [09:15<00:00, 92.58s/it]/it]\n",
      "100%|██████████| 6/6 [08:11<00:00, 81.94s/it]t]  \n",
      "100%|██████████| 6/6 [09:06<00:00, 91.07s/it]t]\n",
      "100%|██████████| 6/6 [09:57<00:00, 99.64s/it]t]\n",
      "100%|██████████| 6/6 [09:14<00:00, 92.38s/it]/it]\n",
      "100%|██████████| 6/6 [10:06<00:00, 101.11s/it]it]\n",
      "100%|██████████| 6/6 [09:08<00:00, 91.35s/it]/it]\n",
      "100%|██████████| 10/10 [1:34:29<00:00, 566.90s/it]\n"
     ]
    }
   ],
   "source": [
    "with open(filename, \"a\", encoding='utf-8') as filehandle:\n",
    "    writer = csv.writer(filehandle, delimiter=',',lineterminator='\\n')\n",
    "    for i in tqdm(range(1991,2001)):\n",
    "        for j in tqdm(range(1,252,50)):\n",
    "            writer.writerows(get_movies_details(i,j))"
   ]
  },
  {
   "cell_type": "code",
   "execution_count": 8,
   "metadata": {},
   "outputs": [
    {
     "name": "stderr",
     "output_type": "stream",
     "text": [
      "100%|██████████| 6/6 [10:12<00:00, 102.01s/it]\n",
      "100%|██████████| 6/6 [09:27<00:00, 94.61s/it]/it]\n",
      "100%|██████████| 6/6 [09:12<00:00, 92.01s/it]/it]\n",
      "100%|██████████| 6/6 [09:04<00:00, 90.73s/it]/it]\n",
      "100%|██████████| 6/6 [09:07<00:00, 91.24s/it]/it]\n",
      "100%|██████████| 6/6 [09:06<00:00, 91.16s/it]/it]\n",
      "100%|██████████| 6/6 [09:01<00:00, 90.27s/it]/it]\n",
      "100%|██████████| 6/6 [08:27<00:00, 84.53s/it]4s/it]\n",
      "100%|██████████| 6/6 [08:33<00:00, 85.63s/it]2s/it]\n",
      "100%|██████████| 6/6 [08:46<00:00, 87.72s/it]6s/it]\n",
      "100%|██████████| 6/6 [11:30<00:00, 115.06s/it]8s/it]\n",
      "100%|██████████| 6/6 [10:38<00:00, 106.49s/it]5s/it]\n",
      "100%|██████████| 6/6 [09:49<00:00, 98.26s/it] 6s/it]\n",
      "100%|██████████| 6/6 [08:52<00:00, 88.83s/it]30s/it]\n",
      "100%|██████████| 6/6 [11:11<00:00, 111.99s/it]8s/it]\n",
      "100%|██████████| 6/6 [09:40<00:00, 96.81s/it]78s/it]\n",
      "100%|██████████| 6/6 [10:01<00:00, 100.32s/it]/it]  \n",
      "100%|██████████| 6/6 [08:52<00:00, 88.83s/it]s/it]\n",
      "100%|██████████| 6/6 [09:03<00:00, 90.62s/it]s/it]\n",
      "100%|██████████| 6/6 [09:12<00:00, 92.01s/it]s/it]\n",
      "100%|██████████| 6/6 [11:57<00:00, 119.58s/it]/it]\n",
      "100%|██████████| 21/21 [3:21:52<00:00, 576.78s/it]\n"
     ]
    }
   ],
   "source": [
    "with open(filename, \"a\", encoding='utf-8') as filehandle:\n",
    "    writer = csv.writer(filehandle, delimiter=',',lineterminator='\\n')\n",
    "    for i in tqdm(range(2001,2022)):\n",
    "        for j in tqdm(range(1,252,50)):\n",
    "            writer.writerows(get_movies_details(i,j))"
   ]
  },
  {
   "cell_type": "code",
   "execution_count": 9,
   "metadata": {},
   "outputs": [
    {
     "name": "stderr",
     "output_type": "stream",
     "text": [
      "100%|██████████| 4/4 [05:44<00:00, 86.15s/it]\n"
     ]
    }
   ],
   "source": [
    "with open(filename, \"a\", encoding='utf-8') as filehandle:\n",
    "    writer = csv.writer(filehandle, delimiter=',',lineterminator='\\n')\n",
    "    for i in tqdm(range(1,152,50)):\n",
    "        writer.writerows(get_movies_details(2022,i))"
   ]
  }
 ],
 "metadata": {
  "interpreter": {
   "hash": "c79ac8789342556743643626decb7769411d3fd989826a457f58a99a538c5aed"
  },
  "kernelspec": {
   "display_name": "Python 3 (ipykernel)",
   "language": "python",
   "name": "python3"
  },
  "language_info": {
   "codemirror_mode": {
    "name": "ipython",
    "version": 3
   },
   "file_extension": ".py",
   "mimetype": "text/x-python",
   "name": "python",
   "nbconvert_exporter": "python",
   "pygments_lexer": "ipython3",
   "version": "3.9.13"
  }
 },
 "nbformat": 4,
 "nbformat_minor": 2
}
