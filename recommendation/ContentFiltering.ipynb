{
 "cells": [
  {
   "cell_type": "code",
   "execution_count": 1,
   "metadata": {},
   "outputs": [],
   "source": [
    "import pandas as pd\n",
    "import requests\n",
    "from  decouple import config\n",
    "import ast\n",
    "import time\n",
    "import scipy.sparse as sp\n",
    "from sklearn.feature_extraction.text import CountVectorizer,TfidfVectorizer\n",
    "from sklearn.metrics.pairwise import cosine_similarity"
   ]
  },
  {
   "cell_type": "code",
   "execution_count": 2,
   "metadata": {},
   "outputs": [],
   "source": [
    "def get_data():\n",
    "    movie_data=pd.read_csv('../all_movies_data.csv')\n",
    "    movie_data['name']=movie_data['name'].str.lower()\n",
    "    return movie_data"
   ]
  },
  {
   "cell_type": "code",
   "execution_count": 3,
   "metadata": {},
   "outputs": [
    {
     "data": {
      "text/html": [
       "<div>\n",
       "<style scoped>\n",
       "    .dataframe tbody tr th:only-of-type {\n",
       "        vertical-align: middle;\n",
       "    }\n",
       "\n",
       "    .dataframe tbody tr th {\n",
       "        vertical-align: top;\n",
       "    }\n",
       "\n",
       "    .dataframe thead th {\n",
       "        text-align: right;\n",
       "    }\n",
       "</style>\n",
       "<table border=\"1\" class=\"dataframe\">\n",
       "  <thead>\n",
       "    <tr style=\"text-align: right;\">\n",
       "      <th></th>\n",
       "      <th>tmdb_id</th>\n",
       "      <th>imdb_id</th>\n",
       "      <th>year</th>\n",
       "      <th>name</th>\n",
       "      <th>rating</th>\n",
       "      <th>description</th>\n",
       "      <th>directors</th>\n",
       "      <th>cast</th>\n",
       "      <th>genres</th>\n",
       "    </tr>\n",
       "  </thead>\n",
       "  <tbody>\n",
       "    <tr>\n",
       "      <th>0</th>\n",
       "      <td>274.0</td>\n",
       "      <td>tt0102926</td>\n",
       "      <td>1991</td>\n",
       "      <td>the silence of the lambs</td>\n",
       "      <td>8.6</td>\n",
       "      <td>A young F.B.I. cadet must receive the help of ...</td>\n",
       "      <td>Jonathan Demme</td>\n",
       "      <td>Jodie Foster, Anthony Hopkins, Lawrence A. Bon...</td>\n",
       "      <td>Crime, Drama, Thriller</td>\n",
       "    </tr>\n",
       "    <tr>\n",
       "      <th>1</th>\n",
       "      <td>280.0</td>\n",
       "      <td>tt0103064</td>\n",
       "      <td>1991</td>\n",
       "      <td>terminator 2: judgment day</td>\n",
       "      <td>8.6</td>\n",
       "      <td>A cyborg, identical to the one who failed to k...</td>\n",
       "      <td>James Cameron</td>\n",
       "      <td>Arnold Schwarzenegger, Linda Hamilton, Edward ...</td>\n",
       "      <td>Action, Sci-Fi</td>\n",
       "    </tr>\n",
       "    <tr>\n",
       "      <th>2</th>\n",
       "      <td>10020.0</td>\n",
       "      <td>tt0101414</td>\n",
       "      <td>1991</td>\n",
       "      <td>beauty and the beast</td>\n",
       "      <td>8.0</td>\n",
       "      <td>A prince cursed to spend his days as a hideous...</td>\n",
       "      <td>Gary Trousdale, Kirk Wise</td>\n",
       "      <td>Paige O'Hara, Robby Benson, Jesse Corti, Rex E...</td>\n",
       "      <td>Animation, Family, Fantasy</td>\n",
       "    </tr>\n",
       "    <tr>\n",
       "      <th>3</th>\n",
       "      <td>879.0</td>\n",
       "      <td>tt0102057</td>\n",
       "      <td>1991</td>\n",
       "      <td>hook</td>\n",
       "      <td>6.8</td>\n",
       "      <td>When Captain James Hook kidnaps his children, ...</td>\n",
       "      <td>Steven Spielberg</td>\n",
       "      <td>Dustin Hoffman, Robin Williams, Julia Roberts,...</td>\n",
       "      <td>Adventure, Comedy, Family</td>\n",
       "    </tr>\n",
       "    <tr>\n",
       "      <th>4</th>\n",
       "      <td>8367.0</td>\n",
       "      <td>tt0102798</td>\n",
       "      <td>1991</td>\n",
       "      <td>robin hood: prince of thieves</td>\n",
       "      <td>6.9</td>\n",
       "      <td>Robin Hood decides to fight back as an outlaw ...</td>\n",
       "      <td>Kevin Reynolds</td>\n",
       "      <td>Kevin Costner, Morgan Freeman, Mary Elizabeth ...</td>\n",
       "      <td>Action, Adventure, Drama</td>\n",
       "    </tr>\n",
       "  </tbody>\n",
       "</table>\n",
       "</div>"
      ],
      "text/plain": [
       "   tmdb_id    imdb_id  year                           name  rating  \\\n",
       "0    274.0  tt0102926  1991       the silence of the lambs     8.6   \n",
       "1    280.0  tt0103064  1991     terminator 2: judgment day     8.6   \n",
       "2  10020.0  tt0101414  1991           beauty and the beast     8.0   \n",
       "3    879.0  tt0102057  1991                           hook     6.8   \n",
       "4   8367.0  tt0102798  1991  robin hood: prince of thieves     6.9   \n",
       "\n",
       "                                         description  \\\n",
       "0  A young F.B.I. cadet must receive the help of ...   \n",
       "1  A cyborg, identical to the one who failed to k...   \n",
       "2  A prince cursed to spend his days as a hideous...   \n",
       "3  When Captain James Hook kidnaps his children, ...   \n",
       "4  Robin Hood decides to fight back as an outlaw ...   \n",
       "\n",
       "                   directors  \\\n",
       "0             Jonathan Demme   \n",
       "1              James Cameron   \n",
       "2  Gary Trousdale, Kirk Wise   \n",
       "3           Steven Spielberg   \n",
       "4             Kevin Reynolds   \n",
       "\n",
       "                                                cast  \\\n",
       "0  Jodie Foster, Anthony Hopkins, Lawrence A. Bon...   \n",
       "1  Arnold Schwarzenegger, Linda Hamilton, Edward ...   \n",
       "2  Paige O'Hara, Robby Benson, Jesse Corti, Rex E...   \n",
       "3  Dustin Hoffman, Robin Williams, Julia Roberts,...   \n",
       "4  Kevin Costner, Morgan Freeman, Mary Elizabeth ...   \n",
       "\n",
       "                       genres  \n",
       "0      Crime, Drama, Thriller  \n",
       "1              Action, Sci-Fi  \n",
       "2  Animation, Family, Fantasy  \n",
       "3   Adventure, Comedy, Family  \n",
       "4    Action, Adventure, Drama  "
      ]
     },
     "execution_count": 3,
     "metadata": {},
     "output_type": "execute_result"
    }
   ],
   "source": [
    "df=get_data()\n",
    "df.head()"
   ]
  },
  {
   "cell_type": "code",
   "execution_count": 4,
   "metadata": {},
   "outputs": [
    {
     "data": {
      "text/plain": [
       "(9330, 9)"
      ]
     },
     "execution_count": 4,
     "metadata": {},
     "output_type": "execute_result"
    }
   ],
   "source": [
    "df.shape"
   ]
  },
  {
   "cell_type": "code",
   "execution_count": 5,
   "metadata": {},
   "outputs": [
    {
     "data": {
      "text/plain": [
       "tmdb_id        0\n",
       "imdb_id        0\n",
       "year           0\n",
       "name           0\n",
       "rating         0\n",
       "description    0\n",
       "directors      0\n",
       "cast           0\n",
       "genres         0\n",
       "dtype: int64"
      ]
     },
     "execution_count": 5,
     "metadata": {},
     "output_type": "execute_result"
    }
   ],
   "source": [
    "df.isna().sum()"
   ]
  },
  {
   "cell_type": "code",
   "execution_count": 6,
   "metadata": {},
   "outputs": [
    {
     "data": {
      "text/plain": [
       "(9330, 9)"
      ]
     },
     "execution_count": 6,
     "metadata": {},
     "output_type": "execute_result"
    }
   ],
   "source": [
    "df=df.dropna(how='any')\n",
    "df.shape"
   ]
  },
  {
   "cell_type": "code",
   "execution_count": 7,
   "metadata": {},
   "outputs": [],
   "source": [
    "df.to_csv('all_movie_data.csv',index=False)"
   ]
  },
  {
   "cell_type": "code",
   "execution_count": 8,
   "metadata": {},
   "outputs": [],
   "source": [
    "def combine_data(data):\n",
    "    data_recommend = data.drop(columns=['tmdb_id','imdb_id','name','year','rating'],axis=1)\n",
    "    data_recommend['combine'] = data_recommend[data_recommend.columns[0:4]].apply(lambda x: ','.join(x.dropna().astype(str)),axis=1)\n",
    "    data_recommend = data_recommend.drop(columns=['description','directors','cast','genres'])\n",
    "    return data_recommend"
   ]
  },
  {
   "cell_type": "code",
   "execution_count": 9,
   "metadata": {},
   "outputs": [],
   "source": [
    "combine_res=combine_data(df)"
   ]
  },
  {
   "cell_type": "code",
   "execution_count": 10,
   "metadata": {},
   "outputs": [
    {
     "data": {
      "text/plain": [
       "combine    A young F.B.I. cadet must receive the help of ...\n",
       "Name: 0, dtype: object"
      ]
     },
     "execution_count": 10,
     "metadata": {},
     "output_type": "execute_result"
    }
   ],
   "source": [
    "combine_res.loc[0]"
   ]
  },
  {
   "cell_type": "code",
   "execution_count": 11,
   "metadata": {},
   "outputs": [],
   "source": [
    "def transform_data(data_combine, data):\n",
    "    count = CountVectorizer(stop_words='english')\n",
    "    count_matrix = count.fit_transform(data_combine['combine'])\n",
    "    \n",
    "    tfidf = TfidfVectorizer(stop_words='english',token_pattern=u'([a-zA-Z-/]{1,})')\n",
    "    tfidf_matrix = tfidf.fit_transform(data['description'])\n",
    "\n",
    "    combine_sparse = sp.hstack([count_matrix, tfidf_matrix], format='csr')\n",
    "    \n",
    "    cosine_sim = cosine_similarity(combine_sparse, combine_sparse)\n",
    "    cosine_sim = cosine_similarity(tfidf_matrix)\n",
    "    \n",
    "    return cosine_sim"
   ]
  },
  {
   "cell_type": "code",
   "execution_count": 12,
   "metadata": {},
   "outputs": [
    {
     "data": {
      "text/plain": [
       "array([[1.        , 0.        , 0.01475334, ..., 0.        , 0.        ,\n",
       "        0.        ],\n",
       "       [0.        , 1.        , 0.        , ..., 0.        , 0.        ,\n",
       "        0.        ],\n",
       "       [0.01475334, 0.        , 1.        , ..., 0.        , 0.        ,\n",
       "        0.04542394],\n",
       "       ...,\n",
       "       [0.        , 0.        , 0.        , ..., 1.        , 0.03652816,\n",
       "        0.03546562],\n",
       "       [0.        , 0.        , 0.        , ..., 0.03652816, 1.        ,\n",
       "        0.02517909],\n",
       "       [0.        , 0.        , 0.04542394, ..., 0.03546562, 0.02517909,\n",
       "        1.        ]])"
      ]
     },
     "execution_count": 12,
     "metadata": {},
     "output_type": "execute_result"
    }
   ],
   "source": [
    "transform_res=transform_data(combine_data(df),df)\n",
    "transform_res"
   ]
  },
  {
   "cell_type": "code",
   "execution_count": 13,
   "metadata": {},
   "outputs": [],
   "source": [
    "def recommend_movies(title, data, combine, transform):\n",
    "\n",
    "    indices = pd.Series(data.index, index = data['name'])\n",
    "    index = indices[title]\n",
    "\n",
    "    sim_scores = list(enumerate(transform[index]))\n",
    "    sim_scores = sorted(sim_scores, key=lambda x: x[1], reverse=True)\n",
    "    sim_scores = sim_scores[1:12]\n",
    "    \n",
    "    movie_indices = [i[0] for i in sim_scores]\n",
    "\n",
    "    imdb_id = data['imdb_id'].iloc[movie_indices]\n",
    "    tmdb_id = data['tmdb_id'].iloc[movie_indices]\n",
    "    movie_year = data['year'].iloc[movie_indices]\n",
    "    movie_title = data['name'].iloc[movie_indices]\n",
    "    movie_genres = data['genres'].iloc[movie_indices]\n",
    "\n",
    "    recommendation_data = pd.DataFrame(columns=['imdb_id','tmdb_id','year','title','genres'])\n",
    "    \n",
    "    recommendation_data['imdb_id'] = imdb_id\n",
    "    recommendation_data['tmdb_id'] = tmdb_id\n",
    "    recommendation_data['year'] = movie_year\n",
    "    recommendation_data['title'] = movie_title\n",
    "    recommendation_data['genres'] = movie_genres\n",
    "\n",
    "    return recommendation_data"
   ]
  },
  {
   "cell_type": "code",
   "execution_count": 14,
   "metadata": {},
   "outputs": [],
   "source": [
    "def get_poster(id):\n",
    "        response = requests.get('https://api.themoviedb.org/3/movie/{}?api_key={}'.format(id,config('API_KEY')))\n",
    "        data_dict=response.json()\n",
    "        return 'https://image.tmdb.org/t/p/original'+data_dict['poster_path']"
   ]
  },
  {
   "cell_type": "code",
   "execution_count": 15,
   "metadata": {},
   "outputs": [],
   "source": [
    "def results(movie_name):\n",
    "    movie_name = movie_name.lower()\n",
    "    \n",
    "    movie_df = get_data()\n",
    "    combine_result = combine_data(movie_df)\n",
    "    transform_result = transform_data(combine_result,movie_df)\n",
    "    \n",
    "    if movie_name not in movie_df['name'].unique():\n",
    "        return 'NA'\n",
    "    \n",
    "    else:\n",
    "        recommendations = recommend_movies(movie_name, movie_df, combine_result, transform_result)\n",
    "        df=pd.DataFrame(recommendations.to_dict('records'))\n",
    "        df['poster']=df['tmdb_id'].apply(lambda x: get_poster(x))\n",
    "        return df.to_dict(orient='records')"
   ]
  },
  {
   "cell_type": "code",
   "execution_count": 30,
   "metadata": {},
   "outputs": [
    {
     "data": {
      "text/plain": [
       "[{'imdb_id': 'tt0372784',\n",
       "  'tmdb_id': 272.0,\n",
       "  'year': 2005,\n",
       "  'title': 'batman begins',\n",
       "  'genres': 'Action, Crime, Drama',\n",
       "  'poster': 'https://image.tmdb.org/t/p/original/8RW2runSEc34IwKN2D1aPcJd2UL.jpg'},\n",
       " {'imdb_id': 'tt1345836',\n",
       "  'tmdb_id': 49026.0,\n",
       "  'year': 2012,\n",
       "  'title': 'the dark knight rises',\n",
       "  'genres': 'Action, Crime, Drama',\n",
       "  'poster': 'https://image.tmdb.org/t/p/original/85cWkCVftiVs0BVey6pxX8uNmLt.jpg'},\n",
       " {'imdb_id': 'tt0103776',\n",
       "  'tmdb_id': 364.0,\n",
       "  'year': 1992,\n",
       "  'title': 'batman returns',\n",
       "  'genres': 'Action, Crime, Fantasy',\n",
       "  'poster': 'https://image.tmdb.org/t/p/original/jKBjeXM7iBBV9UkUcOXx3m7FSHY.jpg'},\n",
       " {'imdb_id': 'tt10314450',\n",
       "  'tmdb_id': 601844.0,\n",
       "  'year': 2020,\n",
       "  'title': 'becky',\n",
       "  'genres': 'Action, Crime, Drama',\n",
       "  'poster': 'https://image.tmdb.org/t/p/original/9wqKF883Kn9c0SZV4ZmkIkFhBLh.jpg'},\n",
       " {'imdb_id': 'tt14402926',\n",
       "  'tmdb_id': 736074.0,\n",
       "  'year': 2021,\n",
       "  'title': 'batman: the long halloween, part two',\n",
       "  'genres': 'Animation, Action, Crime',\n",
       "  'poster': 'https://image.tmdb.org/t/p/original/5X1n5q08mZ7NpNpxehMFODxfNYq.jpg'},\n",
       " {'imdb_id': 'tt7451284',\n",
       "  'tmdb_id': 485942.0,\n",
       "  'year': 2018,\n",
       "  'title': 'batman ninja',\n",
       "  'genres': 'Animation, Action, Sci-Fi',\n",
       "  'poster': 'https://image.tmdb.org/t/p/original/5xSB0Npkc9Fd9kahKBsq9P4Cdzp.jpg'},\n",
       " {'imdb_id': 'tt7167630',\n",
       "  'tmdb_id': 471474.0,\n",
       "  'year': 2018,\n",
       "  'title': 'batman: gotham by gaslight',\n",
       "  'genres': 'Animation, Action, Adventure',\n",
       "  'poster': 'https://image.tmdb.org/t/p/original/7souLi5zqQCnpZVghaXv0Wowi0y.jpg'},\n",
       " {'imdb_id': 'tt0187115',\n",
       "  'tmdb_id': 81072.0,\n",
       "  'year': 1991,\n",
       "  'title': 'kshana kshanam',\n",
       "  'genres': 'Comedy, Crime, Drama',\n",
       "  'poster': 'https://image.tmdb.org/t/p/original/l1Y4MPrLQWHVtsZm0Rzmo4KLXYv.jpg'},\n",
       " {'imdb_id': 'tt0118688',\n",
       "  'tmdb_id': 415.0,\n",
       "  'year': 1997,\n",
       "  'title': 'batman & robin',\n",
       "  'genres': 'Action, Sci-Fi',\n",
       "  'poster': 'https://image.tmdb.org/t/p/original/pc6Y42r8AGAT8iv7V24AkYdcbb8.jpg'},\n",
       " {'imdb_id': 'tt1877830',\n",
       "  'tmdb_id': 414906.0,\n",
       "  'year': 2022,\n",
       "  'title': 'the batman',\n",
       "  'genres': 'Action, Crime, Drama',\n",
       "  'poster': 'https://image.tmdb.org/t/p/original/74xTEgt7R36Fpooo50r9T25onhq.jpg'},\n",
       " {'imdb_id': 'tt4853102',\n",
       "  'tmdb_id': 382322.0,\n",
       "  'year': 2016,\n",
       "  'title': 'batman: the killing joke',\n",
       "  'genres': 'Animation, Action, Crime',\n",
       "  'poster': 'https://image.tmdb.org/t/p/original/nxncAAL1FUKtQWs4uhs5jf1MVut.jpg'}]"
      ]
     },
     "execution_count": 30,
     "metadata": {},
     "output_type": "execute_result"
    }
   ],
   "source": [
    "res=results('The Dark Knight')\n",
    "res"
   ]
  },
  {
   "cell_type": "code",
   "execution_count": 31,
   "metadata": {},
   "outputs": [
    {
     "name": "stdout",
     "output_type": "stream",
     "text": [
      "batman begins\n",
      "the dark knight rises\n",
      "batman returns\n",
      "becky\n",
      "batman: the long halloween, part two\n",
      "batman ninja\n",
      "batman: gotham by gaslight\n",
      "kshana kshanam\n",
      "batman & robin\n",
      "the batman\n",
      "batman: the killing joke\n"
     ]
    }
   ],
   "source": [
    "for i in range(len(res)):\n",
    "    print(res[i]['title'])"
   ]
  },
  {
   "cell_type": "code",
   "execution_count": 18,
   "metadata": {},
   "outputs": [
    {
     "data": {
      "text/plain": [
       "[{'imdb_id': 'tt0397313',\n",
       "  'tmdb_id': 9036.0,\n",
       "  'year': 2006,\n",
       "  'title': 'eight below',\n",
       "  'genres': 'Adventure, Drama, Family',\n",
       "  'poster': 'https://image.tmdb.org/t/p/original/xAKEG2CemdK5M86GidaAE5nRWTW.jpg'},\n",
       " {'imdb_id': 'tt1213663',\n",
       "  'tmdb_id': 107985.0,\n",
       "  'year': 2013,\n",
       "  'title': \"the world's end\",\n",
       "  'genres': 'Action, Comedy, Sci-Fi',\n",
       "  'poster': 'https://image.tmdb.org/t/p/original/kpglnOBYmKn0AkkWDzGxzKHDbds.jpg'},\n",
       " {'imdb_id': 'tt0120738',\n",
       "  'tmdb_id': 2157.0,\n",
       "  'year': 1998,\n",
       "  'title': 'lost in space',\n",
       "  'genres': 'Action, Adventure, Family',\n",
       "  'poster': 'https://image.tmdb.org/t/p/original/4miEpZmUOMqV8P0T6oq5HVBiVHw.jpg'},\n",
       " {'imdb_id': 'tt0838221',\n",
       "  'tmdb_id': 4538.0,\n",
       "  'year': 2007,\n",
       "  'title': 'the darjeeling limited',\n",
       "  'genres': 'Adventure, Comedy, Drama',\n",
       "  'poster': 'https://image.tmdb.org/t/p/original/oSW5OVXTulaIXcoNwJAp5YEKpbP.jpg'},\n",
       " {'imdb_id': 'tt0120913',\n",
       "  'tmdb_id': 7450.0,\n",
       "  'year': 2000,\n",
       "  'title': 'titan a.e.',\n",
       "  'genres': 'Animation, Action, Adventure',\n",
       "  'poster': 'https://image.tmdb.org/t/p/original/el2iHk3LTJWfEnwrvcRkvWY501G.jpg'},\n",
       " {'imdb_id': 'tt0407304',\n",
       "  'tmdb_id': 74.0,\n",
       "  'year': 2005,\n",
       "  'title': 'war of the worlds',\n",
       "  'genres': 'Action, Adventure, Sci-Fi',\n",
       "  'poster': 'https://image.tmdb.org/t/p/original/6Biy7R9LfumYshur3YKhpj56MpB.jpg'},\n",
       " {'imdb_id': 'tt0120199',\n",
       "  'tmdb_id': 10690.0,\n",
       "  'year': 1996,\n",
       "  'title': 'space truckers',\n",
       "  'genres': 'Adventure, Comedy, Sci-Fi',\n",
       "  'poster': 'https://image.tmdb.org/t/p/original/f0NNTJxBzAwC0wvqmBgD9pPiHnG.jpg'},\n",
       " {'imdb_id': 'tt2870612',\n",
       "  'tmdb_id': 256274.0,\n",
       "  'year': 2014,\n",
       "  'title': 'as above, so below',\n",
       "  'genres': 'Horror, Mystery, Thriller',\n",
       "  'poster': 'https://image.tmdb.org/t/p/original/oJZSajKLJkoTOzSZQN2ZwRnPwHZ.jpg'},\n",
       " {'imdb_id': 'tt1530535',\n",
       "  'tmdb_id': 969372.0,\n",
       "  'year': 1995,\n",
       "  'title': 'kanojo no omoide',\n",
       "  'genres': 'Animation, Drama, Horror',\n",
       "  'poster': 'https://image.tmdb.org/t/p/original/qr7ucA4eeUxZvZk9W6jiquvnN6Z.jpg'},\n",
       " {'imdb_id': 'tt0119177',\n",
       "  'tmdb_id': 782.0,\n",
       "  'year': 1997,\n",
       "  'title': 'gattaca',\n",
       "  'genres': 'Drama, Sci-Fi, Thriller',\n",
       "  'poster': 'https://image.tmdb.org/t/p/original/eSKr5Fl1MEC7zpAXaLWBWSBjgJq.jpg'},\n",
       " {'imdb_id': 'tt0117731',\n",
       "  'tmdb_id': 199.0,\n",
       "  'year': 1996,\n",
       "  'title': 'star trek: first contact',\n",
       "  'genres': 'Action, Adventure, Drama',\n",
       "  'poster': 'https://image.tmdb.org/t/p/original/vrC1lkTktFQ4AqBfqf4PXoDDLcw.jpg'}]"
      ]
     },
     "execution_count": 18,
     "metadata": {},
     "output_type": "execute_result"
    }
   ],
   "source": [
    "results('interstellar')"
   ]
  },
  {
   "cell_type": "markdown",
   "metadata": {},
   "source": [
    "### tmdb api reomend movie and test accuracy of my model and actual"
   ]
  },
  {
   "cell_type": "code",
   "execution_count": null,
   "metadata": {},
   "outputs": [],
   "source": [
    "url=('https://api.themoviedb.org/3/movie/{}/similar?api_key={}&language=en-US&page=1'\n",
    ".format(19995,config('API_KEY')))"
   ]
  },
  {
   "cell_type": "code",
   "execution_count": null,
   "metadata": {},
   "outputs": [],
   "source": [
    "resp=requests.get(url).json()"
   ]
  },
  {
   "cell_type": "code",
   "execution_count": null,
   "metadata": {},
   "outputs": [
    {
     "name": "stdout",
     "output_type": "stream",
     "text": [
      "The Iron Giant\n",
      "The X Files: I Want to Believe\n",
      "DragonHeart\n",
      "The 6th Day\n",
      "Species\n",
      "Universal Soldier\n",
      "Mad Max Beyond Thunderdome\n",
      "Cannibal Holocaust\n",
      "Cannibal Ferox\n",
      "Antz\n",
      "The Tree of Life\n",
      "The Reader\n",
      "Alien³\n",
      "Alien Resurrection\n",
      "The Faculty\n",
      "The Longest Day\n",
      "The Gods Must Be Crazy II\n",
      "Legend\n",
      "The Deer Hunter\n",
      "Midway\n"
     ]
    }
   ],
   "source": [
    "for movie in resp['results']:\n",
    "    print(movie['title'])"
   ]
  },
  {
   "cell_type": "code",
   "execution_count": null,
   "metadata": {},
   "outputs": [],
   "source": []
  }
 ],
 "metadata": {
  "interpreter": {
   "hash": "a7eaba816d73e4f1a87e1d923e2352d4d0b575e232100cf2dfbc536c2e8048b9"
  },
  "kernelspec": {
   "display_name": "Python 3.9.1 64-bit",
   "language": "python",
   "name": "python3"
  },
  "language_info": {
   "codemirror_mode": {
    "name": "ipython",
    "version": 3
   },
   "file_extension": ".py",
   "mimetype": "text/x-python",
   "name": "python",
   "nbconvert_exporter": "python",
   "pygments_lexer": "ipython3",
   "version": "3.9.1"
  },
  "orig_nbformat": 4
 },
 "nbformat": 4,
 "nbformat_minor": 2
}
