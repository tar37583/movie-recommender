{
 "cells": [
  {
   "cell_type": "code",
   "execution_count": null,
   "metadata": {},
   "outputs": [],
   "source": [
    "import pandas as pd\n",
    "import requests\n",
    "from decouple import config\n",
    "import scipy.sparse as sp\n",
    "from sklearn.feature_extraction.text import CountVectorizer,TfidfVectorizer\n",
    "from sklearn.metrics.pairwise import cosine_similarity"
   ]
  },
  {
   "cell_type": "markdown",
   "metadata": {},
   "source": [
    "#### Get_data() is used to fetch the data about the movies and return the dataset with it’s attributes as the result for further preprocessing.\n",
    "dataset columns are:\n",
    "- title\n",
    "- description\n",
    "- director(s)\n",
    "- cast\n",
    "- genre"
   ]
  },
  {
   "cell_type": "code",
   "execution_count": null,
   "metadata": {},
   "outputs": [],
   "source": [
    "def get_data():\n",
    "    movie_data=pd.read_csv('./datasets/english_movies.csv')\n",
    "    movie_data['title']=movie_data['title'].str.lower()\n",
    "    return movie_data"
   ]
  },
  {
   "cell_type": "code",
   "execution_count": null,
   "metadata": {},
   "outputs": [],
   "source": [
    "df=get_data()\n",
    "df.head()"
   ]
  },
  {
   "cell_type": "code",
   "execution_count": null,
   "metadata": {},
   "outputs": [],
   "source": [
    "df.shape"
   ]
  },
  {
   "cell_type": "markdown",
   "metadata": {},
   "source": [
    "#### Combine_data() drops the columns not required for feature extraction and then combines the cast and genres, finally returning the combine column as the result of this function."
   ]
  },
  {
   "cell_type": "code",
   "execution_count": null,
   "metadata": {},
   "outputs": [],
   "source": [
    "def combine_data(data):\n",
    "    data_recommend = data.drop(columns=[ 'tmdb_id','title','description','keywords'])\n",
    "    data_recommend['combine'] = data_recommend[data_recommend.columns[0:3]].apply(lambda x: ','.join(x.dropna().astype(str)),axis=1)\n",
    "    data_recommend = data_recommend.drop(columns=['director','cast','genres'])\n",
    "    return data_recommend"
   ]
  },
  {
   "cell_type": "markdown",
   "metadata": {},
   "source": [
    "#### Transform_data() takes the value returned by combine_data() and the plot column from get_data() and applies CountVectorizer and TfidfVectorizer respectively and calculates the Cosine values."
   ]
  },
  {
   "cell_type": "code",
   "execution_count": null,
   "metadata": {},
   "outputs": [],
   "source": [
    "def transform_data(data_combine, data):\n",
    "    count = CountVectorizer(stop_words='english')\n",
    "    count_matrix = count.fit_transform(data_combine['combine'])\n",
    "\n",
    "    tfidf = TfidfVectorizer(stop_words='english',token_pattern=u'([a-zA-Z-/]{1,})')\n",
    "    tfidf_matrix = tfidf.fit_transform(data['description'])\n",
    "\n",
    "    combine_sparse = sp.hstack([count_matrix, tfidf_matrix], format='csr')\n",
    "    \n",
    "    cosine_sim = cosine_similarity(combine_sparse, combine_sparse)\n",
    "    \n",
    "    return cosine_sim"
   ]
  },
  {
   "cell_type": "markdown",
   "metadata": {},
   "source": [
    "#### Recommend_movies() takes four parameters.\n",
    "title : Name of the movie\n",
    "data : Return value of get_data()\n",
    "combine : Return value of combine_data()\n",
    "transform : Return value of transform_data()"
   ]
  },
  {
   "cell_type": "code",
   "execution_count": null,
   "metadata": {},
   "outputs": [],
   "source": [
    "def recommend_movies(title, data, combine, transform):\n",
    "\n",
    "    indices = pd.Series(data.index, index = data['title'])\n",
    "    index = indices[title]\n",
    "\n",
    "    sim_scores = list(enumerate(transform[index]))\n",
    "    sim_scores = sorted(sim_scores, key=lambda x: x[1], reverse=True)\n",
    "    sim_scores = sim_scores[1:11]\n",
    "    \n",
    "    movie_indices = [i[0] for i in sim_scores]\n",
    "\n",
    "    movie_id = data['tmdb_id'].iloc[movie_indices]\n",
    "    movie_title = data['title'].iloc[movie_indices]\n",
    "    movie_genres = data['genres'].iloc[movie_indices]\n",
    "\n",
    "    recommendation_data = pd.DataFrame(columns=['movie_id','title','genres'])\n",
    "\n",
    "    recommendation_data['movie_id']=movie_id\n",
    "    recommendation_data['title'] = movie_title\n",
    "    recommendation_data['genres'] = movie_genres\n",
    "\n",
    "    return recommendation_data"
   ]
  },
  {
   "cell_type": "markdown",
   "metadata": {},
   "source": [
    "#### Result() takes a movie’s title as input and returns the top 10 recommendations"
   ]
  },
  {
   "cell_type": "code",
   "execution_count": null,
   "metadata": {},
   "outputs": [],
   "source": [
    "def results(movie_name):\n",
    "    movie_name = movie_name.lower()\n",
    "    \n",
    "    movie_df = get_data()\n",
    "    combine_result = combine_data(movie_df)\n",
    "    transform_result = transform_data(combine_result,movie_df)\n",
    "    \n",
    "    if movie_name not in movie_df['title'].unique():\n",
    "        return 'Movie not in Database'\n",
    "    \n",
    "    else:\n",
    "        recommendations = recommend_movies(movie_name, movie_df, combine_result, transform_result)\n",
    "        df=pd.DataFrame(recommendations.to_dict('records'))\n",
    "        df['movie_image']=df['movie_id'].apply(lambda x: get_movie_image(x))\n",
    "        return df.to_dict(orient='records')"
   ]
  },
  {
   "cell_type": "code",
   "execution_count": null,
   "metadata": {},
   "outputs": [],
   "source": [
    "def get_movie_image(movie_id):\n",
    "    response = requests.get('https://api.themoviedb.org/3/movie/{}?api_key={}'.format(movie_id,config('API_KEY')))\n",
    "    data_dict=response.json()\n",
    "    return 'https://image.tmdb.org/t/p/original'+data_dict['poster_path']"
   ]
  },
  {
   "cell_type": "code",
   "execution_count": null,
   "metadata": {},
   "outputs": [],
   "source": [
    "results('interstellar')"
   ]
  }
 ],
 "metadata": {
  "interpreter": {
   "hash": "c79ac8789342556743643626decb7769411d3fd989826a457f58a99a538c5aed"
  },
  "kernelspec": {
   "display_name": "Python 3.9.1 64-bit",
   "language": "python",
   "name": "python3"
  },
  "language_info": {
   "codemirror_mode": {
    "name": "ipython",
    "version": 3
   },
   "file_extension": ".py",
   "mimetype": "text/x-python",
   "name": "python",
   "nbconvert_exporter": "python",
   "pygments_lexer": "ipython3",
   "version": "3.9.1"
  },
  "orig_nbformat": 4
 },
 "nbformat": 4,
 "nbformat_minor": 2
}
