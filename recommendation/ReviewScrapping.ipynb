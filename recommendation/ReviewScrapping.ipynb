{
 "cells": [
  {
   "cell_type": "code",
   "execution_count": 1,
   "metadata": {},
   "outputs": [],
   "source": [
    "from decouple import config\n",
    "from bs4 import BeautifulSoup as soup\n",
    "import urllib.request as reqs\n",
    "import pickle\n",
    "import requests"
   ]
  },
  {
   "cell_type": "code",
   "execution_count": 2,
   "metadata": {},
   "outputs": [],
   "source": [
    "def get_sentiment(reviews):\n",
    "    sentiments=[]\n",
    "    vectorizer = pickle.load(open('../pickle_modules/transform.pkl', 'rb'))\n",
    "    arr = vectorizer.transform(reviews)\n",
    "    clf = pickle.load(open('../pickle_modules/mnb.pkl', 'rb'))\n",
    "    sentiments = clf.predict(arr)\n",
    "    return sentiments"
   ]
  },
  {
   "cell_type": "code",
   "execution_count": 3,
   "metadata": {},
   "outputs": [],
   "source": [
    "def get_movie_info(tmdb_id):\n",
    "    response=requests.get('https://api.themoviedb.org/3/movie/{}?api_key={}'.format(tmdb_id,config('API_KEY')))\n",
    "    info=response.json()\n",
    "    return info"
   ]
  },
  {
   "cell_type": "code",
   "execution_count": 16,
   "metadata": {},
   "outputs": [
    {
     "data": {
      "text/plain": [
       "{'adult': False,\n",
       " 'backdrop_path': '/jlQJDD0L5ZojjlS0KYnApdO0n19.jpg',\n",
       " 'belongs_to_collection': {'id': 87096,\n",
       "  'name': 'Avatar Collection',\n",
       "  'poster_path': '/gC3tW9a45RGOzzSh6wv91pFnmFr.jpg',\n",
       "  'backdrop_path': '/syGPZuzcHBBHMLiNDN0x0Tms4Fk.jpg'},\n",
       " 'budget': 237000000,\n",
       " 'genres': [{'id': 28, 'name': 'Action'},\n",
       "  {'id': 12, 'name': 'Adventure'},\n",
       "  {'id': 14, 'name': 'Fantasy'},\n",
       "  {'id': 878, 'name': 'Science Fiction'}],\n",
       " 'homepage': 'https://www.avatar.com/movies/avatar',\n",
       " 'id': 19995,\n",
       " 'imdb_id': 'tt0499549',\n",
       " 'original_language': 'en',\n",
       " 'original_title': 'Avatar',\n",
       " 'overview': 'In the 22nd century, a paraplegic Marine is dispatched to the moon Pandora on a unique mission, but becomes torn between following orders and protecting an alien civilization.',\n",
       " 'popularity': 352.589,\n",
       " 'poster_path': '/jRXYjXNq0Cs2TcJjLkki24MLp7u.jpg',\n",
       " 'production_companies': [{'id': 444,\n",
       "   'logo_path': '/42UPdZl6B2cFXgNUASR8hSt9mpS.png',\n",
       "   'name': 'Dune Entertainment',\n",
       "   'origin_country': 'US'},\n",
       "  {'id': 574,\n",
       "   'logo_path': '/iB6GjNVHs5hOqcEYt2rcjBqIjki.png',\n",
       "   'name': 'Lightstorm Entertainment',\n",
       "   'origin_country': 'US'},\n",
       "  {'id': 25,\n",
       "   'logo_path': '/qZCc1lty5FzX30aOCVRBLzaVmcp.png',\n",
       "   'name': '20th Century Fox',\n",
       "   'origin_country': 'US'},\n",
       "  {'id': 290,\n",
       "   'logo_path': '/Q8mw2AOQQc8Qg0uNwLWq86DVZv.png',\n",
       "   'name': 'Ingenious Media',\n",
       "   'origin_country': 'GB'}],\n",
       " 'production_countries': [{'iso_3166_1': 'US',\n",
       "   'name': 'United States of America'},\n",
       "  {'iso_3166_1': 'GB', 'name': 'United Kingdom'}],\n",
       " 'release_date': '2009-12-10',\n",
       " 'revenue': 2847246203,\n",
       " 'runtime': 162,\n",
       " 'spoken_languages': [{'english_name': 'English',\n",
       "   'iso_639_1': 'en',\n",
       "   'name': 'English'},\n",
       "  {'english_name': 'Spanish', 'iso_639_1': 'es', 'name': 'Español'}],\n",
       " 'status': 'Released',\n",
       " 'tagline': 'Enter the world of Pandora.',\n",
       " 'title': 'Avatar',\n",
       " 'video': False,\n",
       " 'vote_average': 7.5,\n",
       " 'vote_count': 25289}"
      ]
     },
     "execution_count": 16,
     "metadata": {},
     "output_type": "execute_result"
    }
   ],
   "source": [
    "get_movie_info(19995)"
   ]
  },
  {
   "cell_type": "code",
   "execution_count": 4,
   "metadata": {},
   "outputs": [],
   "source": [
    "def get_reviews_and_sentiment(imdb_id):\n",
    "    # sauce=reqs.urlopen('https://www.imdb.com/title/{}/criticreviews'.format(get_imdb_id(tmdb_id))).read()\n",
    "    sauce=reqs.urlopen('https://www.imdb.com/title/{}/reviews?ref_=tt_ov_rt'.format(imdb_id)).read()\n",
    "    page_soup=soup(sauce,'lxml')\n",
    "    # results=page_soup.find_all(\"div\", attrs={\"class\": \"summary\",\"itemprop\":\"reviewbody\"})\n",
    "    results=page_soup.find_all(\"div\", {\"class\": \"text show-more__control\"})\n",
    "    reviews_list=[]\n",
    "    i=0\n",
    "    for review in results:\n",
    "        reviews_list.append(review.text)\n",
    "        i=i+1\n",
    "        if i>=5:\n",
    "            break\n",
    "    \n",
    "    reviews_status=get_sentiment(reviews_list)\n",
    "    movie_reviews = {reviews_list[i]: reviews_status[i]\n",
    "                     for i in range(len(reviews_list))}\n",
    "    return movie_reviews"
   ]
  },
  {
   "cell_type": "code",
   "execution_count": 5,
   "metadata": {},
   "outputs": [],
   "source": [
    "def get_all_details(tmdb_id):\n",
    "    info = get_movie_info(tmdb_id)\n",
    "    movie_dict = {'imdb_id': info['imdb_id'],\n",
    "                  \"title\": info['title'],\n",
    "                  \"image\": 'https://image.tmdb.org/t/p/original'+info['backdrop_path'],\n",
    "                  \"overview\": info['overview'],\n",
    "                  \"votes\": info['vote_average'],\n",
    "                  \"year\":info['release_date'].split()[0],\n",
    "                  get_reviews_and_sentiment(info['imdb_id'])}\n",
    "    return movie_dict"
   ]
  },
  {
   "cell_type": "code",
   "execution_count": 8,
   "metadata": {},
   "outputs": [],
   "source": [
    "details=get_all_details(19995)"
   ]
  },
  {
   "cell_type": "code",
   "execution_count": 13,
   "metadata": {},
   "outputs": [
    {
     "data": {
      "text/plain": [
       "dict_values([1, 1, 1, 1, 1])"
      ]
     },
     "execution_count": 13,
     "metadata": {},
     "output_type": "execute_result"
    }
   ],
   "source": [
    "details['reviews'].values()"
   ]
  },
  {
   "cell_type": "code",
   "execution_count": null,
   "metadata": {},
   "outputs": [],
   "source": []
  }
 ],
 "metadata": {
  "interpreter": {
   "hash": "c79ac8789342556743643626decb7769411d3fd989826a457f58a99a538c5aed"
  },
  "kernelspec": {
   "display_name": "Python 3.9.1 64-bit",
   "language": "python",
   "name": "python3"
  },
  "language_info": {
   "codemirror_mode": {
    "name": "ipython",
    "version": 3
   },
   "file_extension": ".py",
   "mimetype": "text/x-python",
   "name": "python",
   "nbconvert_exporter": "python",
   "pygments_lexer": "ipython3",
   "version": "3.9.1"
  },
  "orig_nbformat": 4
 },
 "nbformat": 4,
 "nbformat_minor": 2
}
